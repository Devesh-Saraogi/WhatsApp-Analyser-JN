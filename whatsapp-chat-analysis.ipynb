{
 "cells": [
  {
   "cell_type": "code",
   "execution_count": null,
   "id": "13057cd6-cbe5-45af-9add-2b568d2ef16a",
   "metadata": {},
   "outputs": [],
   "source": [
    "import re\n",
    "import pandas as pd"
   ]
  },
  {
   "cell_type": "code",
   "execution_count": null,
   "id": "781c82a3-4919-4fdb-94c7-1555a1e8ca7e",
   "metadata": {},
   "outputs": [],
   "source": [
    "f=open('[filename.txt]','r',encoding='utf-8')"
   ]
  },
  {
   "cell_type": "code",
   "execution_count": null,
   "id": "06403f8a-63d2-4b4d-8057-0737b1f52ea2",
   "metadata": {},
   "outputs": [],
   "source": [
    "data=f.read()"
   ]
  },
  {
   "cell_type": "code",
   "execution_count": null,
   "id": "aa4a56e8-809b-4a56-92ae-4cb28e02ab40",
   "metadata": {
    "scrolled": true
   },
   "outputs": [],
   "source": [
    "print(data)"
   ]
  },
  {
   "cell_type": "code",
   "execution_count": null,
   "id": "7407233b-d4b6-4e05-955c-661370a4f225",
   "metadata": {},
   "outputs": [],
   "source": [
    "pattern='\\d{1,2}/\\d{1,2}/\\d{2,4},\\s\\d{1,2}:\\d{2}\\s?\\u202f?[APap][mM]\\s-\\s'"
   ]
  },
  {
   "cell_type": "code",
   "execution_count": null,
   "id": "fc5d0015-63f1-4756-a8ce-f9319f8fd4da",
   "metadata": {},
   "outputs": [],
   "source": [
    "messages=re.split(pattern,data)[1:]"
   ]
  },
  {
   "cell_type": "code",
   "execution_count": null,
   "id": "d09ddf90-a9f5-4f3e-98d3-1fbd04e20530",
   "metadata": {},
   "outputs": [],
   "source": [
    "messages"
   ]
  },
  {
   "cell_type": "code",
   "execution_count": null,
   "id": "0fef8111-1f5f-4974-b0a7-bd197d0be3cc",
   "metadata": {
    "scrolled": true
   },
   "outputs": [],
   "source": [
    "dates=re.findall(pattern,data)\n",
    "dates = [match.replace('\\u202f', '') for match in dates]\n",
    "dates"
   ]
  },
  {
   "cell_type": "code",
   "execution_count": null,
   "id": "c2f1170e-1a01-4d2d-bef1-471916dec164",
   "metadata": {},
   "outputs": [],
   "source": [
    "df=pd.DataFrame({'user_message':messages, 'message_date':dates})\n",
    "#convert message_date type\n",
    "df['message_date']=pd.to_datetime(df['message_date'],format='%m/%d/%y, %I:%M%p - ')\n",
    "df.rename(columns={'message_date':'date'},inplace=True)\n",
    "df['user_message'] = df['user_message'].str.replace(' - ', '', regex=True)\n",
    "df.head()"
   ]
  },
  {
   "cell_type": "code",
   "execution_count": null,
   "id": "cc9f26a8-69bd-4484-8817-20b6d334eaee",
   "metadata": {},
   "outputs": [],
   "source": [
    "users=[]\n",
    "messages=[]\n",
    "for message in df['user_message']:\n",
    "    entry=re.split('([\\w\\W]+?):\\s', message)\n",
    "    if entry[1:]: #username\n",
    "        users.append(entry[1])\n",
    "        messages.append(entry[2])\n",
    "    else:\n",
    "        users.append('group_notification')\n",
    "        messages.append(entry[0])\n",
    "\n",
    "df['user']=users\n",
    "df['message']=messages\n",
    "df.drop(columns=['user_message'], inplace=True)\n",
    "df.head()"
   ]
  },
  {
   "cell_type": "code",
   "execution_count": null,
   "id": "cbbf1ea6-be45-466a-9c03-c25b5e0b238e",
   "metadata": {},
   "outputs": [],
   "source": [
    "df['year']=df['date'].dt.year"
   ]
  },
  {
   "cell_type": "code",
   "execution_count": null,
   "id": "36513a34-8773-4247-a55c-ca13b1b149f0",
   "metadata": {},
   "outputs": [],
   "source": [
    "df.head()"
   ]
  },
  {
   "cell_type": "code",
   "execution_count": null,
   "id": "2887a9d0-4638-4abe-878f-df5d4808da4a",
   "metadata": {},
   "outputs": [],
   "source": [
    "df['month']=df['date'].dt.month_name()"
   ]
  },
  {
   "cell_type": "code",
   "execution_count": null,
   "id": "89c08170-4ec5-4a9e-aebc-24c91b644785",
   "metadata": {},
   "outputs": [],
   "source": [
    "df.head()"
   ]
  },
  {
   "cell_type": "code",
   "execution_count": null,
   "id": "4a0aeaea-8b6d-4590-8796-0ff7c2b51df6",
   "metadata": {},
   "outputs": [],
   "source": [
    "df['day']=df['date'].dt.day"
   ]
  },
  {
   "cell_type": "code",
   "execution_count": null,
   "id": "1d8a8398-4582-45fe-af41-38db8831578f",
   "metadata": {},
   "outputs": [],
   "source": [
    "df.head()"
   ]
  },
  {
   "cell_type": "code",
   "execution_count": null,
   "id": "7f41ab37-52ef-41ca-8e17-31cb463835c6",
   "metadata": {},
   "outputs": [],
   "source": [
    "df['hour']=df['date'].dt.hour"
   ]
  },
  {
   "cell_type": "code",
   "execution_count": null,
   "id": "dec7887a-37ca-43fe-b9c5-e5732f968ed6",
   "metadata": {},
   "outputs": [],
   "source": [
    "df['minute']=df['date'].dt.minute"
   ]
  },
  {
   "cell_type": "code",
   "execution_count": null,
   "id": "0ead1c0c-cecd-431d-b535-aed63085eb11",
   "metadata": {},
   "outputs": [],
   "source": [
    "df.head()"
   ]
  },
  {
   "cell_type": "code",
   "execution_count": null,
   "id": "5e77f807-6d37-40ba-ba39-e43100283165",
   "metadata": {},
   "outputs": [],
   "source": [
    "df[df['user']=='Abhay Bits'].shape"
   ]
  },
  {
   "cell_type": "code",
   "execution_count": null,
   "id": "8442ce3b-2e38-476d-8208-182707206045",
   "metadata": {},
   "outputs": [],
   "source": [
    "words=[]\n",
    "for message in df['message']:\n",
    "    words.extend(message.split())"
   ]
  },
  {
   "cell_type": "code",
   "execution_count": null,
   "id": "1ae1f4b7-2355-4847-bf2a-9564a459add8",
   "metadata": {},
   "outputs": [],
   "source": [
    "from urlextract import URLExtract\n",
    "extractor=URLExtract()\n",
    "links=[]\n",
    "for message in df['message']:\n",
    "    links.extend(extractor.find_urls(message))\n",
    "print(len(links))"
   ]
  },
  {
   "cell_type": "code",
   "execution_count": null,
   "id": "81f3b883-b0bf-442d-a469-6a16b1cd1fd8",
   "metadata": {},
   "outputs": [],
   "source": [
    "!pip install urlextract"
   ]
  },
  {
   "cell_type": "code",
   "execution_count": null,
   "id": "a41cad3e-6dd8-4ed8-a6ce-a8124086f9b0",
   "metadata": {},
   "outputs": [],
   "source": [
    "x=df['user'].value_counts().head()"
   ]
  },
  {
   "cell_type": "code",
   "execution_count": null,
   "id": "139698a0-b874-4466-b439-bfdd13230dcf",
   "metadata": {},
   "outputs": [],
   "source": [
    "import matplotlib.pyplot as plt"
   ]
  },
  {
   "cell_type": "code",
   "execution_count": null,
   "id": "235fd703-67c8-4629-9ee3-ec114658eb08",
   "metadata": {},
   "outputs": [],
   "source": [
    "name=x.index\n",
    "count=x.values"
   ]
  },
  {
   "cell_type": "code",
   "execution_count": null,
   "id": "730d64a2-0a5c-4c7a-81be-34d8a9dca63c",
   "metadata": {},
   "outputs": [],
   "source": [
    "plt.bar(name,count)\n",
    "plt.xticks(rotation='vertical')"
   ]
  },
  {
   "cell_type": "code",
   "execution_count": null,
   "id": "19fc9d0e-f3f9-4d51-a9fc-c52c6c631fa6",
   "metadata": {},
   "outputs": [],
   "source": [
    "round((df['user'].value_counts()/df.shape[0])*100).reset_index().rename(columns={'user':'name','count':'percent'})"
   ]
  },
  {
   "cell_type": "code",
   "execution_count": null,
   "id": "adc6c157-e347-4302-9217-e5fd4382599f",
   "metadata": {},
   "outputs": [],
   "source": [
    "words=[]\n",
    "for message in df['message']:\n",
    "    words.extend(message.split())"
   ]
  },
  {
   "cell_type": "code",
   "execution_count": null,
   "id": "aa644deb-6b7c-4c1a-b3b9-b5b1d3a0f90e",
   "metadata": {},
   "outputs": [],
   "source": [
    "from collections import Counter\n",
    "pd.DataFrame(Counter(words).most_common(20))"
   ]
  },
  {
   "cell_type": "code",
   "execution_count": null,
   "id": "a576c404-4312-43fc-8471-af2965bb3ff4",
   "metadata": {},
   "outputs": [],
   "source": [
    "temp=df[df['user']!='group_notification']\n",
    "temp=temp[temp['message']!='<Media omitted>\\n']"
   ]
  },
  {
   "cell_type": "code",
   "execution_count": null,
   "id": "88bc6313-1298-4a08-8748-71fb50d03c89",
   "metadata": {},
   "outputs": [],
   "source": [
    "f=open('stop_hinglish.txt','r')\n",
    "stop_words=f.read()\n",
    "print(stop_words)"
   ]
  },
  {
   "cell_type": "code",
   "execution_count": null,
   "id": "050f5015-e2ed-4ed2-9de5-3e11bd1141f0",
   "metadata": {},
   "outputs": [],
   "source": [
    "words=[]\n",
    "for message in temp['message']:\n",
    "    for word in message.lower().split():\n",
    "        if word not in stop_words:\n",
    "            if word not in ['<this','edited>']:\n",
    "                words.append(word)"
   ]
  },
  {
   "cell_type": "code",
   "execution_count": null,
   "id": "ee9c7424-9b23-4908-a66e-3acf5720eae9",
   "metadata": {},
   "outputs": [],
   "source": [
    "from collections import Counter\n",
    "pd.DataFrame(Counter(words).most_common(20))"
   ]
  },
  {
   "cell_type": "code",
   "execution_count": null,
   "id": "8ebf8901-c455-4daf-ad46-cccf67aabeab",
   "metadata": {},
   "outputs": [],
   "source": [
    "!pip install emoji"
   ]
  },
  {
   "cell_type": "code",
   "execution_count": null,
   "id": "52baffd4-9d2f-4c84-aa5c-94598a2a00f4",
   "metadata": {},
   "outputs": [],
   "source": [
    "emojis=[]\n",
    "for message in df['message']:\n",
    "    emojis.extend([c for c in message if c in emoji.EMOJI_DATA])"
   ]
  },
  {
   "cell_type": "code",
   "execution_count": null,
   "id": "37b48482-5914-4ff4-86d8-8e7aec604460",
   "metadata": {},
   "outputs": [],
   "source": [
    "pd.DataFrame(Counter(emojis).most_common(len(Counter(emojis))))"
   ]
  },
  {
   "cell_type": "code",
   "execution_count": null,
   "id": "489b4508-0e0d-4f4e-92b0-7218324260f1",
   "metadata": {},
   "outputs": [],
   "source": [
    "df['month_num']=df['date'].dt.month"
   ]
  },
  {
   "cell_type": "code",
   "execution_count": null,
   "id": "1542963e-6053-4131-bd16-d822bb7ff2f7",
   "metadata": {},
   "outputs": [],
   "source": [
    "df"
   ]
  },
  {
   "cell_type": "code",
   "execution_count": null,
   "id": "b960c997-c394-41c8-b4e0-63133547428e",
   "metadata": {
    "scrolled": true
   },
   "outputs": [],
   "source": [
    "timeline= df.groupby(['year','month_num','month']).count()['message'].reset_index()"
   ]
  },
  {
   "cell_type": "code",
   "execution_count": null,
   "id": "40deef7a-44d2-4a3f-990f-f2c0ff78bfa1",
   "metadata": {},
   "outputs": [],
   "source": [
    "timeline"
   ]
  },
  {
   "cell_type": "code",
   "execution_count": null,
   "id": "0a06ec52-c1df-49a8-bbf7-c10d6f4e2bc9",
   "metadata": {},
   "outputs": [],
   "source": [
    "time =[]\n",
    "for i in range(timeline.shape[0]):\n",
    "    time.append(timeline['month'][i]+\"-\"+str(timeline['year'][i]))"
   ]
  },
  {
   "cell_type": "code",
   "execution_count": null,
   "id": "f5858b0d-6457-4087-9270-e6976d64e7b5",
   "metadata": {},
   "outputs": [],
   "source": [
    "timeline['time']=time"
   ]
  },
  {
   "cell_type": "code",
   "execution_count": null,
   "id": "038ae14b-3ab5-4038-b1c1-4b9124dd3525",
   "metadata": {},
   "outputs": [],
   "source": [
    "timeline"
   ]
  },
  {
   "cell_type": "code",
   "execution_count": null,
   "id": "1ce0634e-252d-4018-92ea-d9806fe70e19",
   "metadata": {},
   "outputs": [],
   "source": [
    "plt.plot(timeline['time'],timeline['message'])\n",
    "plt.xticks(rotation='vertical')\n",
    "plt.show()"
   ]
  },
  {
   "cell_type": "code",
   "execution_count": null,
   "id": "c324d85f-3679-424f-a660-a726626ce6c8",
   "metadata": {},
   "outputs": [],
   "source": [
    "df['only_date']=df['date'].dt.date"
   ]
  },
  {
   "cell_type": "code",
   "execution_count": null,
   "id": "7395eb31-be78-4877-a476-0fd481cf3d6d",
   "metadata": {},
   "outputs": [],
   "source": [
    "daily_timeline=df.groupby('only_date').count()['message'].reset_index()"
   ]
  },
  {
   "cell_type": "code",
   "execution_count": null,
   "id": "0913a47b-f82b-4674-952c-f5c7c01ee982",
   "metadata": {},
   "outputs": [],
   "source": [
    "plt.figure(figsize=(18,10))\n",
    "plt.plot(daily_timeline['only_date'],daily_timeline['message'])"
   ]
  },
  {
   "cell_type": "code",
   "execution_count": null,
   "id": "ca27f922-9bee-4456-bbb8-6cf1694fd709",
   "metadata": {},
   "outputs": [],
   "source": [
    "df.head()"
   ]
  },
  {
   "cell_type": "code",
   "execution_count": null,
   "id": "6dc13792-2f1d-4868-9635-12d5cd12162a",
   "metadata": {},
   "outputs": [],
   "source": [
    "df['day_name']=df['date'].dt.day_name()"
   ]
  },
  {
   "cell_type": "code",
   "execution_count": null,
   "id": "7ca9fa26-8f1d-4198-976e-e558abeaa64f",
   "metadata": {},
   "outputs": [],
   "source": [
    "df['day_name'].value_counts()"
   ]
  },
  {
   "cell_type": "code",
   "execution_count": null,
   "id": "5f5f870c-524f-4627-af7c-877d7556b4a6",
   "metadata": {},
   "outputs": [],
   "source": [
    "period=[]\n",
    "for hour in df[['day_name','hour']]['hour']:\n",
    "    if hour==23:\n",
    "        period.append(str(hour)+\"-\"+str('00'))\n",
    "    elif hour==0:\n",
    "        period.append(str('00')+\"-\"+str(hour+1))\n",
    "    else:\n",
    "        period.append(str(hour)+\"-\"+str(hour+1))"
   ]
  },
  {
   "cell_type": "code",
   "execution_count": null,
   "id": "ff515a9d-1df7-41f3-91be-3e8eeccbc01b",
   "metadata": {},
   "outputs": [],
   "source": [
    "df['period']=period"
   ]
  },
  {
   "cell_type": "code",
   "execution_count": null,
   "id": "7d7d2fc3-706c-49e4-a606-2f24a381e593",
   "metadata": {},
   "outputs": [],
   "source": [
    "df"
   ]
  },
  {
   "cell_type": "code",
   "execution_count": null,
   "id": "1bfc94e9-f016-4a90-ad54-6d2dcac42e9d",
   "metadata": {},
   "outputs": [],
   "source": [
    "import seaborn as sns\n",
    "plt.figure(figsize=(20,6))\n",
    "sns.heatmap(df.pivot_table(index='day_name',columns='period',values='message',aggfunc='count').fillna(0))\n",
    "plt.yticks(rotation='horizontal')\n",
    "plt.show()"
   ]
  }
 ],
 "metadata": {
  "kernelspec": {
   "display_name": "Python 3 (ipykernel)",
   "language": "python",
   "name": "python3"
  },
  "language_info": {
   "codemirror_mode": {
    "name": "ipython",
    "version": 3
   },
   "file_extension": ".py",
   "mimetype": "text/x-python",
   "name": "python",
   "nbconvert_exporter": "python",
   "pygments_lexer": "ipython3",
   "version": "3.11.7"
  }
 },
 "nbformat": 4,
 "nbformat_minor": 5
}
